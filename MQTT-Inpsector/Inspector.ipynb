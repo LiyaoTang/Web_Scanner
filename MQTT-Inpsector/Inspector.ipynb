{
 "cells": [
  {
   "cell_type": "code",
   "execution_count": 1,
   "metadata": {},
   "outputs": [],
   "source": [
    "import paho.mqtt.client as mqtt\n",
    "from optparse import OptionParser\n",
    "import time\n",
    "import gc"
   ]
  },
  {
   "cell_type": "code",
   "execution_count": 2,
   "metadata": {},
   "outputs": [
    {
     "name": "stdout",
     "output_type": "stream",
     "text": [
      "counter/slow/\n"
     ]
    }
   ],
   "source": [
    "client_id = '3310-u6142160'\n",
    "\n",
    "client_name = '3310student'\n",
    "client_password = 'comp3310'\n",
    "\n",
    "server_addr = '3310exp.hopto.org'\n",
    "\n",
    "topic_list = ['counter/slow/']\n",
    "qos_list   = [0, 1, 2]\n",
    "def get_topic(topic_list, qos_list):\n",
    "    return []\n",
    "\n",
    "print('\\n'.join(topic_list))\n",
    "\n",
    "sys_topic = '$SYS/#'\n",
    "sys_key   = 'SYS'"
   ]
  },
  {
   "cell_type": "code",
   "execution_count": 13,
   "metadata": {},
   "outputs": [],
   "source": [
    "def subscribe_counter(client, userdata, speed, qos_list):\n",
    "    topic    = 'counter/' + speed + '/q'\n",
    "    for qos in qos_list:\n",
    "        cur_topic = topic + str(qos)\n",
    "        client.subscribe(cur_topic, qos=qos)\n",
    "        userdata[cur_topic] = []    \n",
    "\n",
    "# client's event on connect\n",
    "def on_connect(client, userdata, flags, rc):\n",
    "    '''\n",
    "        flags['session present'] = 1 => last session retained by broker, otherwise a new session\n",
    "\n",
    "        rc 0=Connection successful, 1=incorrect protocol version, 2=invalid client identifier,\n",
    "           3=server unavailable,    4=bad username or password,   5=not authorised\n",
    "\n",
    "        userdata: created along with Client class initiliasation\n",
    "    '''\n",
    "\n",
    "    # subscribe topic slow\n",
    "    subscribe_counter(client, userdata, 'slow', [2])\n",
    "    \n",
    "#     # subscribe topic fast\n",
    "#     subscribe_counter(client, userdata, 'fast')\n",
    "    \n",
    "#     # subscribe sys\n",
    "#     client.subscribe(sys_topic, qos=2)\n",
    "#     userdata[sys_key] = {}\n",
    "    \n",
    "    print('flags=', flags, 'rc=', rc, 'userdata=', userdata)\n",
    "\n",
    "# client's event on subscribe\n",
    "def on_subscribe(client, userdata, mid, granted_qos):\n",
    "    print('mid=', mid, 'grated qos=', granted_qos)\n",
    "\n",
    "# client's event on receiving message\n",
    "def on_message(client, userdata, msg):\n",
    "#     if msg.topic.startswith(sys_topic.rstrip('#')): # sys info\n",
    "#         handle_sys_info(userdata[sys_key], msg)\n",
    "#     else:\n",
    "#         try:\n",
    "#             cnt = int(msg.payload)\n",
    "#             userdata[msg.topic].append(cnt)\n",
    "#         except:\n",
    "#             cnt = str(msg.payload)\n",
    "    \n",
    "    userdata[msg.topic].append(msg.payload)\n",
    "    \n",
    "    if len(userdata[msg.topic]) > 2:\n",
    "        client.loop_stop()\n",
    "        client.disconnect()\n",
    "    \n",
    "# client's event on disconnect\n",
    "def on_disconnect(client, userdata, rc):\n",
    "    if rc != 0:\n",
    "        print(\"Unexpected disconnection.\")\n",
    "    print('log:\\n', userdata)\n",
    "\n",
    "########################################################\n",
    "    \n",
    "def handle_sys_info(sys_record, msg):\n",
    "    return\n",
    "#     print(msg.topic, msg.payload)\n",
    "\n",
    "def publish_result(userdata):\n",
    "    # t 10-minute intervals under\n",
    "    # studentreport/<your.Uni.ID>/ with the ‘retain’ flag set and QoS=2.\n",
    "    \n",
    "    topic = 'studentreport/u6142160'\n",
    "    qos   = 2\n",
    "    rt_f  = True\n",
    "    sub_topic_list = ['/language', '/timestamp']\n",
    "    \n",
    "    time_stamp = str(time.time())\n",
    "    sys_record = userdata['SYS']\n",
    "    for key in sys_record:\n",
    "        asd"
   ]
  },
  {
   "cell_type": "code",
   "execution_count": 14,
   "metadata": {},
   "outputs": [],
   "source": [
    "# initialisation\n",
    "client = mqtt.Client(client_id, clean_session=True, userdata={}, transport=\"tcp\")\n",
    "client.username_pw_set(username=client_name, password=client_password)\n",
    "\n",
    "client.on_connect    = on_connect\n",
    "client.on_subscribe  = on_subscribe\n",
    "client.on_message    = on_message\n",
    "client.on_disconnect = on_disconnect"
   ]
  },
  {
   "cell_type": "code",
   "execution_count": 18,
   "metadata": {
    "scrolled": true
   },
   "outputs": [
    {
     "name": "stdout",
     "output_type": "stream",
     "text": [
      "flags= {'session present': 0} rc= 0 userdata= {'counter/slow/q2': []}\n",
      "mid= 2 grated qos= (2,)\n",
      "log:\n",
      " {'counter/slow/q2': [b'close', b'914', b'915']}\n"
     ]
    }
   ],
   "source": [
    "# potentially blocking => connect_async for non-blocking\n",
    "client.connect(host=server_addr, port=1883, keepalive=60, bind_address=\"\")\n",
    "# keepalive: \n",
    "#     maximum period in seconds allowed between communications with the broker. \n",
    "#     If no other messages are being exchanged, this controls the rate at which the client will send \n",
    "#     ping messages to the broker\n",
    "\n",
    "gc.collect()\n",
    "client.loop_start()"
   ]
  },
  {
   "cell_type": "code",
   "execution_count": 17,
   "metadata": {},
   "outputs": [
    {
     "name": "stdout",
     "output_type": "stream",
     "text": [
      "log:\n",
      " {'counter/slow/q2': [b'close', b'880', b'881']}\n"
     ]
    },
    {
     "data": {
      "text/plain": [
       "0"
      ]
     },
     "execution_count": 17,
     "metadata": {},
     "output_type": "execute_result"
    }
   ],
   "source": [
    "# disconnect\n",
    "client.loop_stop()\n",
    "client.disconnect()\n",
    "gc.collect()"
   ]
  },
  {
   "cell_type": "code",
   "execution_count": null,
   "metadata": {
    "scrolled": true
   },
   "outputs": [],
   "source": [
    "client.publish(sys_topic.rstrip('#'), payload=client_id, qos=0, retain=False)"
   ]
  },
  {
   "cell_type": "code",
   "execution_count": null,
   "metadata": {},
   "outputs": [],
   "source": []
  }
 ],
 "metadata": {
  "kernelspec": {
   "display_name": "Python 3",
   "language": "python",
   "name": "python3"
  },
  "language_info": {
   "codemirror_mode": {
    "name": "ipython",
    "version": 3
   },
   "file_extension": ".py",
   "mimetype": "text/x-python",
   "name": "python",
   "nbconvert_exporter": "python",
   "pygments_lexer": "ipython3",
   "version": "3.6.4"
  }
 },
 "nbformat": 4,
 "nbformat_minor": 2
}
