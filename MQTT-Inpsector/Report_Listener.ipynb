{
 "cells": [
  {
   "cell_type": "code",
   "execution_count": 1,
   "metadata": {},
   "outputs": [],
   "source": [
    "# coding: utf-8\n",
    "import paho.mqtt.client as mqtt\n",
    "from optparse import OptionParser\n",
    "import time\n",
    "import sys\n",
    "import gc"
   ]
  },
  {
   "cell_type": "code",
   "execution_count": 5,
   "metadata": {},
   "outputs": [],
   "source": [
    "# parser = OptionParser()\n",
    "# parser.add_option(\"--port\", type=\"int\", dest=\"port\")\n",
    "# parser.add_option(\"--qos\", type=\"int\", dest=\"qos\")\n",
    "# parser.add_option(\"--speed\", dest=\"speed\")\n",
    "# (options, args) = parser.parse_args()\n",
    "\n",
    "# port = options.port\n",
    "# qos = options.qos\n",
    "# speed = options.speed\n",
    "# assert qos in [0,1,2]\n",
    "# assert speed in ['fast', 'slow', 'SYS']\n",
    "\n",
    "port    = 1883\n",
    "bind    = \"\"\n",
    "\n",
    "topic   = \"/studentreport/u6142160/#\"\n",
    "qos     = 2\n",
    "\n",
    "client_id = '3310-u6142160-listener'\n",
    "client_name = '3310student'\n",
    "client_password = 'comp3310'\n",
    "server_addr = '3310exp.hopto.org'"
   ]
  },
  {
   "cell_type": "code",
   "execution_count": 8,
   "metadata": {},
   "outputs": [],
   "source": [
    "# client's event on connect\n",
    "def on_connect(client, userdata, flags, rc):\n",
    "    '''\n",
    "        flags['session present'] = 1 => last session retained by broker, otherwise a new session\n",
    "\n",
    "        rc 0=Connection successful, 1=incorrect protocol version, 2=invalid client identifier,\n",
    "           3=server unavailable,    4=bad username or password,   5=not authorised\n",
    "\n",
    "        userdata: created along with Client class initiliasation\n",
    "    '''\n",
    "    sub_rst = None\n",
    "    while(sub_rst != mqtt.MQTT_ERR_SUCCESS):\n",
    "        sub_rst, _ = client.subscribe(topic, qos=qos)\n",
    "    print('sucessfully subscribe ', topic)\n",
    "    \n",
    "def on_message(client, userdata, msg):\n",
    "    print(msg.topic, msg.payload)\n",
    "\n",
    "# client's event on disconnect\n",
    "def on_disconnect(client, userdata, rc):\n",
    "    client.loop_stop()\n",
    "\n",
    "    print('disconnect time', time.time())\n",
    "    \n",
    "    # print log\n",
    "    if rc != 0:\n",
    "        print('Unexpected disconnection: rc =', rc)"
   ]
  },
  {
   "cell_type": "code",
   "execution_count": 9,
   "metadata": {},
   "outputs": [
    {
     "name": "stdout",
     "output_type": "stream",
     "text": [
      "sucessfully subscribe  /studentreport/u6142160/#\n"
     ]
    }
   ],
   "source": [
    "# initialisation\n",
    "client = mqtt.Client(client_id, clean_session=True, transport=\"tcp\")\n",
    "client.username_pw_set(username=client_name, password=client_password)\n",
    "\n",
    "client.on_connect    = on_connect\n",
    "client.on_message    = on_message\n",
    "client.on_disconnect = on_disconnect\n",
    "\n",
    "# potentially blocking => connect_async for non-blocking\n",
    "client.connect(host=server_addr, port=port, keepalive=60, bind_address=\"\")\n",
    "gc.collect()\n",
    "\n",
    "client.loop_start()"
   ]
  },
  {
   "cell_type": "code",
   "execution_count": null,
   "metadata": {},
   "outputs": [],
   "source": []
  },
  {
   "cell_type": "code",
   "execution_count": 7,
   "metadata": {},
   "outputs": [
    {
     "data": {
      "text/plain": [
       "0"
      ]
     },
     "execution_count": 7,
     "metadata": {},
     "output_type": "execute_result"
    }
   ],
   "source": [
    "client.disconnect()"
   ]
  }
 ],
 "metadata": {
  "kernelspec": {
   "display_name": "Python 3",
   "language": "python",
   "name": "python3"
  },
  "language_info": {
   "codemirror_mode": {
    "name": "ipython",
    "version": 3
   },
   "file_extension": ".py",
   "mimetype": "text/x-python",
   "name": "python",
   "nbconvert_exporter": "python",
   "pygments_lexer": "ipython3",
   "version": "3.6.4"
  }
 },
 "nbformat": 4,
 "nbformat_minor": 2
}
